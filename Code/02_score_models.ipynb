{
 "cells": [
  {
   "cell_type": "code",
   "execution_count": 1,
   "metadata": {},
   "outputs": [],
   "source": [
    "quiet_library <- function(...) { suppressPackageStartupMessages(library(...)) }\n",
    "quiet_library(H5weaver)\n",
    "quiet_library(ArchR)\n",
    "#quiet_library(Seurat)\n",
    "quiet_library(purrr)\n",
    "quiet_library(ATAComb)\n",
    "quiet_library(SingleCellExperiment)\n",
    "quiet_library(S4Vectors)"
   ]
  },
  {
   "cell_type": "code",
   "execution_count": 2,
   "metadata": {},
   "outputs": [],
   "source": [
    "h5_files <- list.files(\"../data/\", pattern = \".h5\", full.names = TRUE)"
   ]
  },
  {
   "cell_type": "raw",
   "metadata": {},
   "source": [
    "rna_mat <- do.call(cbind, map(h5_files, read_h5_dgCMatrix))"
   ]
  },
  {
   "cell_type": "code",
   "execution_count": 3,
   "metadata": {},
   "outputs": [
    {
     "name": "stderr",
     "output_type": "stream",
     "text": [
      "Setting default genome to Hg38.\n",
      "\n",
      "Setting default number of Parallel threads to 8.\n",
      "\n"
     ]
    }
   ],
   "source": [
    "addArchRGenome(\"hg38\")\n",
    "addArchRThreads(8)"
   ]
  },
  {
   "cell_type": "code",
   "execution_count": 4,
   "metadata": {},
   "outputs": [
    {
     "name": "stderr",
     "output_type": "stream",
     "text": [
      "Using GeneAnnotation set by addArchRGenome(Hg38)!\n",
      "\n",
      "Using GeneAnnotation set by addArchRGenome(Hg38)!\n",
      "\n",
      "Validating Arrows...\n",
      "\n",
      "Getting SampleNames...\n",
      "\n",
      "\n",
      "\n",
      "Copying ArrowFiles to Ouptut Directory! If you want to save disk space set copyArrows = FALSE\n",
      "\n",
      "1 \n",
      "2 \n",
      "3 \n",
      "4 \n",
      "5 \n",
      "6 \n",
      "\n",
      "\n",
      "Getting Cell Metadata...\n",
      "\n",
      "\n",
      "\n",
      "Merging Cell Metadata...\n",
      "\n",
      "Initializing ArchRProject...\n",
      "\n",
      "\n",
      "                                                   / |\n",
      "                                                 /    \\\n",
      "            .                                  /      |.\n",
      "            \\\\\\                              /        |.\n",
      "              \\\\\\                          /           `|.\n",
      "                \\\\\\                      /              |.\n",
      "                  \\                    /                |\\\n",
      "                  \\\\#####\\           /                  ||\n",
      "                ==###########>      /                   ||\n",
      "                 \\\\##==......\\    /                     ||\n",
      "            ______ =       =|__ /__                     ||      \\\\\\\n",
      "        ,--' ,----`-,__ ___/'  --,-`-===================##========>\n",
      "       \\               '        ##_______ _____ ,--,__,=##,__   ///\n",
      "        ,    __==    ___,-,__,--'#'  ==='      `-'    | ##,-/\n",
      "        -,____,---'       \\\\####\\\\________________,--\\\\_##,/\n",
      "           ___      .______        ______  __    __  .______      \n",
      "          /   \\     |   _  \\      /      ||  |  |  | |   _  \\     \n",
      "         /  ^  \\    |  |_)  |    |  ,----'|  |__|  | |  |_)  |    \n",
      "        /  /_\\  \\   |      /     |  |     |   __   | |      /     \n",
      "       /  _____  \\  |  |\\  \\\\___ |  `----.|  |  |  | |  |\\  \\\\___.\n",
      "      /__/     \\__\\ | _| `._____| \\______||__|  |__| | _| `._____|\n",
      "    \n",
      "\n"
     ]
    }
   ],
   "source": [
    "arrows <- list.files(\"../data/\", pattern = \"arrow$\", full.names = TRUE)\n",
    "proj <- ArchRProject(arrows)"
   ]
  },
  {
   "cell_type": "code",
   "execution_count": 5,
   "metadata": {},
   "outputs": [
    {
     "name": "stderr",
     "output_type": "stream",
     "text": [
      "Checking Inputs...\n",
      "\n",
      "ArchR logging to : ArchRLogs/ArchR-addIterativeLSI-3437749a75e-Date-2021-11-21_Time-21-28-06.log\n",
      "If there is an issue, please report to github with logFile!\n",
      "\n",
      "2021-11-21 21:28:06 : Computing Total Across All Features, 0.003 mins elapsed.\n",
      "\n",
      "2021-11-21 21:28:12 : Computing Top Features, 0.103 mins elapsed.\n",
      "\n",
      "###########\n",
      "2021-11-21 21:28:14 : Running LSI (1 of 2) on Top Features, 0.124 mins elapsed.\n",
      "###########\n",
      "\n",
      "2021-11-21 21:28:14 : Sampling Cells (N = 10004) for Estimated LSI, 0.126 mins elapsed.\n",
      "\n",
      "2021-11-21 21:28:14 : Creating Sampled Partial Matrix, 0.126 mins elapsed.\n",
      "\n",
      "2021-11-21 21:28:27 : Computing Estimated LSI (projectAll = FALSE), 0.349 mins elapsed.\n",
      "\n",
      "2021-11-21 21:29:33 : Identifying Clusters, 1.45 mins elapsed.\n",
      "\n",
      "Warning message:\n",
      "“The following arguments are not used: row.names”\n",
      "2021-11-21 21:30:00 : Identified 6 Clusters, 1.892 mins elapsed.\n",
      "\n",
      "2021-11-21 21:30:00 : Saving LSI Iteration, 1.892 mins elapsed.\n",
      "\n",
      "2021-11-21 21:30:19 : Creating Cluster Matrix on the total Group Features, 2.219 mins elapsed.\n",
      "\n",
      "2021-11-21 21:30:33 : Computing Variable Features, 2.454 mins elapsed.\n",
      "\n",
      "###########\n",
      "2021-11-21 21:30:34 : Running LSI (2 of 2) on Variable Features, 2.456 mins elapsed.\n",
      "###########\n",
      "\n",
      "2021-11-21 21:30:34 : Creating Partial Matrix, 2.457 mins elapsed.\n",
      "\n",
      "2021-11-21 21:31:03 : Computing LSI, 2.946 mins elapsed.\n",
      "\n",
      "2021-11-21 21:32:06 : Finished Running IterativeLSI, 4.002 mins elapsed.\n",
      "\n"
     ]
    }
   ],
   "source": [
    "proj <- addIterativeLSI(proj)"
   ]
  },
  {
   "cell_type": "code",
   "execution_count": 6,
   "metadata": {},
   "outputs": [
    {
     "name": "stderr",
     "output_type": "stream",
     "text": [
      "\n",
      "           ___      .______        ______  __    __  .______      \n",
      "          /   \\     |   _  \\      /      ||  |  |  | |   _  \\     \n",
      "         /  ^  \\    |  |_)  |    |  ,----'|  |__|  | |  |_)  |    \n",
      "        /  /_\\  \\   |      /     |  |     |   __   | |      /     \n",
      "       /  _____  \\  |  |\\  \\\\___ |  `----.|  |  |  | |  |\\  \\\\___.\n",
      "      /__/     \\__\\ | _| `._____| \\______||__|  |__| | _| `._____|\n",
      "    \n",
      "\n"
     ]
    },
    {
     "data": {
      "text/plain": [
       "class: ArchRProject \n",
       "outputDirectory: /home/jupyter/ArchR_2020/Code/ArchROutput \n",
       "samples(6): X070-P1_PB1051W10 X070-P1_PB1178W10 ... X070-P1_PB5206W10\n",
       "  X070-P1_PB7626W10\n",
       "sampleColData names(1): ArrowFiles\n",
       "cellColData names(35): Sample well_id ... altius_frac altius_count\n",
       "numberOfCells(1): 41440\n",
       "medianTSS(1): 16.662\n",
       "medianFrags(1): 5543"
      ]
     },
     "metadata": {},
     "output_type": "display_data"
    }
   ],
   "source": [
    "proj"
   ]
  },
  {
   "cell_type": "code",
   "execution_count": 7,
   "metadata": {},
   "outputs": [],
   "source": [
    "proj_meta <- getCellColData(proj)\n",
    "proj_meta$archr_names <- rownames(proj_meta)"
   ]
  },
  {
   "cell_type": "raw",
   "metadata": {},
   "source": [
    "proj_genes <- getGenes(proj)"
   ]
  },
  {
   "cell_type": "raw",
   "metadata": {},
   "source": [
    "common_genes <- intersect(rownames(rna_mat), proj_genes$symbol)"
   ]
  },
  {
   "cell_type": "code",
   "execution_count": 8,
   "metadata": {},
   "outputs": [
    {
     "name": "stderr",
     "output_type": "stream",
     "text": [
      "Importing Feature Matrix 1 of 6\n",
      "\n",
      "Importing Feature Matrix 2 of 6\n",
      "\n",
      "Importing Feature Matrix 3 of 6\n",
      "\n",
      "Importing Feature Matrix 4 of 6\n",
      "\n",
      "Importing Feature Matrix 5 of 6\n",
      "\n",
      "Importing Feature Matrix 6 of 6\n",
      "\n",
      "Error in combining individual feature matrices! Returning as a list of individual feature matrices!\n",
      "\n"
     ]
    }
   ],
   "source": [
    "sce <- import10xFeatureMatrix(h5_files)\n",
    "\n",
    "if(class(sce) == \"list\") {\n",
    "    for(i in 2:length(sce)) {\n",
    "        rowRanges(sce[[i]]) <- rowRanges(sce[[1]])\n",
    "    }\n",
    "    sce <- do.call(cbind, sce)\n",
    "}"
   ]
  },
  {
   "cell_type": "code",
   "execution_count": 9,
   "metadata": {},
   "outputs": [
    {
     "data": {
      "text/plain": [
       "class: RangedSummarizedExperiment \n",
       "dim: 36578 41440 \n",
       "metadata(0):\n",
       "assays(1): counts\n",
       "rownames(36578): MIR1302-2HG FAM138A ... AC007325.4 AC007325.2\n",
       "rowData names(5): feature_type genome id interval name\n",
       "colnames(41440): X070-P1_PB1051W10#9f02f32ebde111eba4dc42010a19c80f\n",
       "  X070-P1_PB1051W10#a1e3aaa2bde111eba4dc42010a19c80f ...\n",
       "  X070-P1_PB7626W10#90908ca2bde111ebb23e42010a19c80f\n",
       "  X070-P1_PB7626W10#a3626878bde111eba4dc42010a19c80f\n",
       "colData names(0):"
      ]
     },
     "metadata": {},
     "output_type": "display_data"
    }
   ],
   "source": [
    "colnames(sce) <- sub(\"#\",\"\",colnames(sce))\n",
    "sce <- sce[,proj_meta$barcodes]\n",
    "colnames(sce) <- proj_meta$archr_names\n",
    "\n",
    "sce"
   ]
  },
  {
   "cell_type": "raw",
   "metadata": {},
   "source": [
    "rna_mat <- rna_mat[common_genes,proj_meta$barcodes]\n",
    "colnames(rna_mat) <- proj_meta$archr_names"
   ]
  },
  {
   "cell_type": "raw",
   "metadata": {},
   "source": [
    "#rna_so <- CreateSeuratObject(rna_mat)\n",
    "rna_sce <- SingleCellExperiment(rna_mat)\n",
    "#rna_so <- NormalizeData(rna_so)"
   ]
  },
  {
   "cell_type": "code",
   "execution_count": 10,
   "metadata": {},
   "outputs": [
    {
     "name": "stderr",
     "output_type": "stream",
     "text": [
      "ArchR logging to : ArchRLogs/ArchR-addGeneExpressionMatrix-34376a6ec889-Date-2021-11-21_Time-21-32-44.log\n",
      "If there is an issue, please report to github with logFile!\n",
      "\n",
      "Overlap w/ scATAC = 1\n",
      "\n",
      "2021-11-21 21:32:45 : \n",
      "\n",
      "Overlap Per Sample w/ scATAC : X070-P1_PB1051W10=6822,X070-P1_PB1178W10=8032,X070-P1_PB1194W10=6355,X070-P1_PB2216W10=6564,X070-P1_PB5206W10=7194,X070-P1_PB7626W10=6473\n",
      "\n",
      "2021-11-21 21:32:45 : \n",
      "\n",
      "2021-11-21 21:32:53 : Batch Execution w/ safelapply!, 0 mins elapsed.\n",
      "\n",
      "ArchR logging successful to : ArchRLogs/ArchR-addGeneExpressionMatrix-34376a6ec889-Date-2021-11-21_Time-21-32-44.log\n",
      "\n"
     ]
    }
   ],
   "source": [
    "proj <- addGeneExpressionMatrix(\n",
    "    proj,\n",
    "    seRNA = sce\n",
    ")"
   ]
  },
  {
   "cell_type": "raw",
   "metadata": {},
   "source": [
    "rm(rna_so)\n",
    "rm(rna_sce)"
   ]
  },
  {
   "cell_type": "code",
   "execution_count": 18,
   "metadata": {},
   "outputs": [],
   "source": [
    "model_files <- list.files(\"Models\", full.names = TRUE)\n",
    "model_list <- map(model_files, readRDS)\n",
    "model_names <- map_chr(model_list, \"modelName\")\n",
    "names(model_list) <- model_names"
   ]
  },
  {
   "cell_type": "raw",
   "metadata": {},
   "source": [
    "## Models that throw errors - will skip for now.\n",
    "skip_models <- c(\"GeneModel-TSS-NoBoundary-Exponential-3\",\"GeneModel-TSS-NoBoundary-Exponential-4\")"
   ]
  },
  {
   "cell_type": "code",
   "execution_count": 12,
   "metadata": {},
   "outputs": [],
   "source": [
    "skip_models <- \"\""
   ]
  },
  {
   "cell_type": "code",
   "execution_count": 25,
   "metadata": {},
   "outputs": [],
   "source": [
    "out_dir <- \"model_cors\"\n",
    "if(!dir.exists(out_dir)) {\n",
    "    dir.create(out_dir)\n",
    "}\n",
    "agsc_formals <- names(formals(addGeneScoreMatrix))"
   ]
  },
  {
   "cell_type": "code",
   "execution_count": null,
   "metadata": {
    "scrolled": true,
    "tags": []
   },
   "outputs": [
    {
     "name": "stderr",
     "output_type": "stream",
     "text": [
      "GeneBody_0_0\n",
      "\n",
      "ArchR logging to : ArchRLogs/ArchR-addFeatureMatrix-343737e8c1b5-Date-2021-11-22_Time-06-13-48.log\n",
      "If there is an issue, please report to github with logFile!\n",
      "\n",
      "2021-11-22 06:13:51 : Batch Execution w/ safelapply!, 0 mins elapsed.\n",
      "\n"
     ]
    }
   ],
   "source": [
    "for(gene_model in model_list) {\n",
    "    model_name <- gene_model$modelName\n",
    "    \n",
    "    out_file <- file.path(out_dir, paste0(gene_model$modelName, \"_cor.csv\"))\n",
    "    \n",
    "    if(!file.exists(out_file) & !model_name %in% skip_models) {\n",
    "        message(model_name)\n",
    "                \n",
    "        model_params <- c(list(input = proj), gene_model)\n",
    "        model_params$force <- TRUE\n",
    "        \n",
    "        if(gene_model$FN == \"addGeneScoreMatrix\") {\n",
    "\n",
    "            model_params <- model_params[names(model_params) %in% agsc_formals]\n",
    "\n",
    "            message(\"adding GeneScores\")\n",
    "            addArchRThreads(8)\n",
    "            proj2 <- do.call(addGeneScoreMatrix, model_params)\n",
    "\n",
    "            cor_mat_name <- \"GeneScoreMatrix\"\n",
    "        } else {\n",
    "            proj2 <- addFeatureMatrix(\n",
    "                proj,\n",
    "                features = gene_model$features\n",
    "            )\n",
    "            \n",
    "            cor_mat_name = \"FeatureMatrix\"\n",
    "        }\n",
    "        \n",
    "        message(\"running correlations\")\n",
    "\n",
    "        res <- correlateMatrices(\n",
    "            proj2,\n",
    "            useMatrix1 = cor_mat_name,\n",
    "            useMatrix2 = \"GeneExpressionMatrix\",\n",
    "            k = 50,\n",
    "            verbose = FALSE\n",
    "        )\n",
    "\n",
    "        message(\"writing results\")\n",
    "        \n",
    "        res <- as.data.frame(res)\n",
    "        write.csv(res, out_file, row.names = FALSE, quote = FALSE)\n",
    "    }\n",
    "}"
   ]
  },
  {
   "cell_type": "code",
   "execution_count": null,
   "metadata": {},
   "outputs": [],
   "source": [
    "sessionInfo()"
   ]
  },
  {
   "cell_type": "code",
   "execution_count": null,
   "metadata": {},
   "outputs": [],
   "source": []
  }
 ],
 "metadata": {
  "kernelspec": {
   "display_name": "R 4",
   "language": "R",
   "name": "ir4"
  },
  "language_info": {
   "codemirror_mode": "r",
   "file_extension": ".r",
   "mimetype": "text/x-r-source",
   "name": "R",
   "pygments_lexer": "r",
   "version": "4.0.5"
  }
 },
 "nbformat": 4,
 "nbformat_minor": 4
}
